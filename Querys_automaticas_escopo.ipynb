{
  "cells": [
    {
      "cell_type": "markdown",
      "metadata": {
        "id": "APJJa3M-Yqll"
      },
      "source": []
    },
    {
      "cell_type": "markdown",
      "metadata": {
        "id": "QXvH03t1Yy-r"
      },
      "source": [
        "# **Bibliotecas**"
      ]
    },
    {
      "cell_type": "code",
      "execution_count": null,
      "metadata": {
        "id": "qtmvHjehY2DB"
      },
      "outputs": [],
      "source": [
        "import pandas as pd #usado para manipular os dados da tabela, retonados pelo gcp\n",
        "from google.cloud import bigquery #usado para fazer consultas no gcp\n",
        "from google.colab import auth #usado para autenticação\n",
        "from googleapiclient.discovery import build\n",
        "from googleapiclient.errors import HttpError\n",
        "from oauth2client.client import GoogleCredentials\n",
        "from googleapiclient.http import MediaFileUpload, MediaIoBaseUpload\n",
        "from io import BytesIO\n"
      ]
    },
    {
      "cell_type": "markdown",
      "metadata": {
        "id": "g0ELdB8IY90O"
      },
      "source": [
        "# **Autenticação**"
      ]
    },
    {
      "cell_type": "code",
      "execution_count": null,
      "metadata": {
        "id": "lP36m0W0ZDIl",
        "colab": {
          "base_uri": "https://localhost:8080/"
        },
        "outputId": "a67011c8-20a0-4816-f376-0b66d44c1201"
      },
      "outputs": [
        {
          "output_type": "stream",
          "name": "stdout",
          "text": [
            "Authenticated\n"
          ]
        }
      ],
      "source": [
        "auth.authenticate_user()\n",
        "print('Authenticated')\n",
        "\n",
        "# Criação das credenciais da API do Drive\n",
        "creds = GoogleCredentials.get_application_default()\n",
        "if creds.create_scoped_required():\n",
        "    creds = creds.create_scoped(['https://www.googleapis.com/auth/drive'])\n",
        "\n",
        "# Criação da instância do serviço do Drive\n",
        "service = build('drive', 'v3', credentials=creds)"
      ]
    },
    {
      "cell_type": "markdown",
      "metadata": {
        "id": "0t3ZLmvJZo_I"
      },
      "source": [
        "# **Carregar demandas de dados**"
      ]
    },
    {
      "cell_type": "code",
      "source": [
        "client = bigquery.Client(project='cohesive-geode-254820')\n",
        "\n",
        "query = \"\"\"\n",
        "INSERT INTO `cohesive-geode-254820.testes.querys_auto`\n",
        "\n",
        "SELECT * FROM `cohesive-geode-254820.testes.querys_aut` WHERE id NOT IN (SELECT DISTINCT id FROM `cohesive-geode-254820.testes.querys_auto`)\n",
        ";\"\"\"\n",
        "\n",
        "query_job = client.query(query)"
      ],
      "metadata": {
        "id": "hZpArWjxAjR4"
      },
      "execution_count": null,
      "outputs": []
    },
    {
      "cell_type": "code",
      "execution_count": null,
      "metadata": {
        "id": "4BhnjUhDtb9l"
      },
      "outputs": [],
      "source": [
        "client = bigquery.Client(project='cohesive-geode-254820')\n",
        "\n",
        "# Execute uma consulta no BigQuery para obter as demandas solicitadas pelo formulário salvas no bq\n",
        "query = \"\"\"\n",
        "SELECT *\n",
        "FROM `cohesive-geode-254820.testes.querys_auto`\n",
        "where data_sol is not null and status_sol = 'pendente'\n",
        "\"\"\"\n",
        "# Executar a consulta e recuperar os resultados.\n",
        "query_job = client.query(query)\n",
        "rows = query_job.result()\n",
        "\n",
        "# Converter as linhas em uma lista de dicionários.\n",
        "row_list = [dict(row) for row in rows]\n",
        "\n",
        "# Converter a lista de dicionários em um objeto pandas.DataFrame.\n",
        "df = pd.DataFrame(row_list)\n"
      ]
    },
    {
      "cell_type": "markdown",
      "metadata": {
        "id": "pt4hC2YGxHeD"
      },
      "source": [
        "# **LOOP PARA GERAR A STRING DA CONSULTA, PROCESSAR NO GCP E COMPARTILHAR COM O USUÁRIO**"
      ]
    },
    {
      "cell_type": "code",
      "execution_count": null,
      "metadata": {
        "id": "6zCkh6G1XfnA"
      },
      "outputs": [],
      "source": [
        "# Defines variáveis do LOOP\n",
        "ind_i = int(df['id'].min()) # índice inicial\n",
        "ind_f = int(df['id'].max()) # índice final\n",
        "qtl = ind_f - ind_i # quantidade de consultas que serão realizadas\n",
        "ls_ids = ','.join(map(lambda x: f\"'{x}'\", df['id'].tolist())) # string com os ids que serão processados\n",
        "i = 0\n",
        "\n",
        "while qtl >= i:\n",
        "# Define as variáveis únicas da consulta a ser realizada\n",
        "  data_inicial = df.loc[i, 'data_inicial']\n",
        "  data_final = df.loc[i, 'data_final']\n",
        "  filtro = df.loc[i, 'filtro']\n",
        "  tipo_filtro = df.loc[i, 'tipo_filtro']\n",
        "  campos = df.loc[i, 'dimensoes']\n",
        "  caminho = df.loc[i, 'caminho']\n",
        "  tp_data = ''\n",
        "  if df.loc[i, 'tipo_data'] == 'APROVADA':\n",
        "    tp_data = 'dthr_aprovacao'\n",
        "  elif df.loc[i, 'tipo_data'] == 'COMPRA':\n",
        "    tp_data = 'dthr_compra'\n",
        "\n",
        "\n",
        "  # define consulta\n",
        "  consulta = f'select {campos} \\\n",
        "  from {caminho} \\\n",
        "  where date({tp_data}) between \"{data_inicial}\" and \"{data_final}\" and {tipo_filtro} = \"{filtro}\"'\n",
        "\n",
        "  # RODA A CONSULTA\n",
        "  query = f'{consulta}'\n",
        "  # Executar a consulta e recuperar os resultados.\n",
        "  query_job = client.query(query)\n",
        "  rows = query_job.result()\n",
        "\n",
        "  # Converter as linhas em uma lista de dicionários.\n",
        "  row_list = [dict(row) for row in rows]\n",
        "\n",
        "  # Converter a lista de dicionários em um objeto pandas.DataFrame.\n",
        "  dfe = pd.DataFrame(row_list)\n",
        "\n",
        "  # Criação do arquivo CSV na memória\n",
        "  csv_file = BytesIO()\n",
        "  dfe.to_csv(csv_file, index=False)\n",
        "  csv_file.seek(0)\n",
        "\n",
        "  # Configurações do arquivo no Google Drive\n",
        "  #file_metadata = {'name': f'dados{i}.csv', 'parents': ['10_zHbdf9W1mV_U5LreFNJZGOO5-0784d']}\n",
        "  file_metadata = {'name': f'dados{i}.csv', 'parents': ['1jTN_Rubhgv1TY2-35HdUX_1h5dY69y2Q']}\n",
        "  media = MediaIoBaseUpload(csv_file, mimetype='text/csv')\n",
        "\n",
        "  # Upload do arquivo para o Drive\n",
        "  file = service.files().create(body=file_metadata, media_body=media, fields='id').execute()\n",
        "\n",
        "  # Adição de permissão de leitura no arquivo para um usuário específico\n",
        "  file_id = file['id']\n",
        "  user_email = df.loc[i,'email']\n",
        "  permission = {\n",
        "      'type': 'user',\n",
        "      'role': 'writer',\n",
        "      'emailAddress': user_email\n",
        "  }\n",
        "  service.permissions().create(fileId=file_id, body=permission).execute()\n",
        "\n",
        "  i += 1 # FIM DO LOOP\n"
      ]
    },
    {
      "cell_type": "markdown",
      "source": [
        "ATUALIZA O STATUS DA DEMANDA"
      ],
      "metadata": {
        "id": "rWy-pc8zfdoN"
      }
    },
    {
      "cell_type": "code",
      "source": [
        "# query para atualizar os status\n",
        "query = f'update `cohesive-geode-254820.testes.querys_auto` \\\n",
        "set \\\n",
        "status_sol = \"finalizado\" \\\n",
        "where id in ({ls_ids})'\n",
        "\n",
        "# Executar a consulta e recuperar os resultados.\n",
        "query_job = client.query(query)"
      ],
      "metadata": {
        "id": "3VBwEpjkfcY5"
      },
      "execution_count": null,
      "outputs": []
    }
  ],
  "metadata": {
    "colab": {
      "provenance": []
    },
    "kernelspec": {
      "display_name": "Python 3",
      "name": "python3"
    },
    "language_info": {
      "name": "python"
    }
  },
  "nbformat": 4,
  "nbformat_minor": 0
}